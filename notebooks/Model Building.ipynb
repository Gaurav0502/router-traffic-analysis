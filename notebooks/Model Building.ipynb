{
 "cells": [
  {
   "cell_type": "markdown",
   "metadata": {},
   "source": [
    "# Importing the required modules"
   ]
  },
  {
   "cell_type": "code",
   "execution_count": 52,
   "metadata": {},
   "outputs": [],
   "source": [
    "# Module used for handling the file system.\n",
    "import os\n",
    "\n",
    "# Modules used for data handling and linear algebra.\n",
    "import numpy as np\n",
    "import pandas as pd\n",
    "\n",
    "# Modules used for python utilities\n",
    "from collections import Counter\n",
    "import random as r\n",
    "\n",
    "# Modules used for data visualisation.\n",
    "import matplotlib.pyplot as plt\n",
    "import matplotlib.colors as clr\n",
    "import seaborn as sns\n",
    "sns.set_style(\"whitegrid\")\n",
    "\n",
    "# Modules used for data preprocessing.\n",
    "from sklearn.preprocessing import StandardScaler\n",
    "from sklearn.preprocessing import LabelEncoder\n",
    "\n",
    "# Module used for test-train split\n",
    "from sklearn.model_selection import train_test_split\n",
    "\n",
    "# Module used for cross validation\n",
    "from sklearn.model_selection import cross_val_score\n",
    "\n",
    "# Modules used for model building.\n",
    "from sklearn.tree import DecisionTreeClassifier\n",
    "from sklearn.ensemble import RandomForestClassifier\n",
    "from sklearn.ensemble import ExtraTreesClassifier\n",
    "from sklearn import tree\n",
    "\n",
    "# Module used for model evaluation.\n",
    "from sklearn import metrics\n"
   ]
  },
  {
   "cell_type": "markdown",
   "metadata": {},
   "source": [
    "# Dataset Preprocessing"
   ]
  },
  {
   "cell_type": "code",
   "execution_count": 3,
   "metadata": {},
   "outputs": [],
   "source": [
    "class DatasetStructurer:\n",
    "    \n",
    "    def __init__(self, dataset_dir : str) -> None:\n",
    "        self.PARENT = dataset_dir\n",
    "        self.nt = None\n",
    "        self.cnt = None\n",
    "        self.numerical = {\"discrete\":[], \"continuous\":[]}\n",
    "        self.categorical = []\n",
    "        self.labels = []\n",
    "        \n",
    "    def combine_all_csvs(self):\n",
    "        all_traces = [pd.read_csv(os.path.join(self.PARENT, file)) for file in os.listdir(self.PARENT)]\n",
    "        self.nt = pd.concat(all_traces, ignore_index=True)\n",
    "        files = os.listdir(self.PARENT)\n",
    "        self.labels = [[files[i].split(\"_\")[0]]*len(all_traces[i]) for i in range(len(files))]\n",
    "        temp = []\n",
    "        for i in self.labels:\n",
    "            temp += i\n",
    "        self.nt[\"type\"] = temp\n"
   ]
  },
  {
   "cell_type": "markdown",
   "metadata": {},
   "source": [
    "## Initializing the path for the data"
   ]
  },
  {
   "cell_type": "code",
   "execution_count": 4,
   "metadata": {},
   "outputs": [],
   "source": [
    "ds = DatasetStructurer(\"../data/network-data/\")"
   ]
  },
  {
   "cell_type": "markdown",
   "metadata": {},
   "source": [
    "## Combine all the CSV files into a single file"
   ]
  },
  {
   "cell_type": "code",
   "execution_count": 5,
   "metadata": {},
   "outputs": [],
   "source": [
    "ds.combine_all_csvs()"
   ]
  },
  {
   "cell_type": "markdown",
   "metadata": {},
   "source": [
    "## Glimpse into the unprocessed dataset"
   ]
  },
  {
   "cell_type": "code",
   "execution_count": 6,
   "metadata": {},
   "outputs": [
    {
     "data": {
      "text/html": [
       "<div>\n",
       "<style scoped>\n",
       "    .dataframe tbody tr th:only-of-type {\n",
       "        vertical-align: middle;\n",
       "    }\n",
       "\n",
       "    .dataframe tbody tr th {\n",
       "        vertical-align: top;\n",
       "    }\n",
       "\n",
       "    .dataframe thead th {\n",
       "        text-align: right;\n",
       "    }\n",
       "</style>\n",
       "<table border=\"1\" class=\"dataframe\">\n",
       "  <thead>\n",
       "    <tr style=\"text-align: right;\">\n",
       "      <th></th>\n",
       "      <th>time</th>\n",
       "      <th>proto</th>\n",
       "      <th>data_len</th>\n",
       "      <th>ip_src</th>\n",
       "      <th>ip_dst</th>\n",
       "      <th>src_port</th>\n",
       "      <th>dst_port</th>\n",
       "      <th>type</th>\n",
       "    </tr>\n",
       "  </thead>\n",
       "  <tbody>\n",
       "    <tr>\n",
       "      <th>0</th>\n",
       "      <td>1.551439e+09</td>\n",
       "      <td>17</td>\n",
       "      <td>58</td>\n",
       "      <td>192.168.1.149</td>\n",
       "      <td>192.168.1.1</td>\n",
       "      <td>52835</td>\n",
       "      <td>53</td>\n",
       "      <td>bulk</td>\n",
       "    </tr>\n",
       "    <tr>\n",
       "      <th>1</th>\n",
       "      <td>1.551439e+09</td>\n",
       "      <td>17</td>\n",
       "      <td>230</td>\n",
       "      <td>192.168.1.1</td>\n",
       "      <td>192.168.1.149</td>\n",
       "      <td>53</td>\n",
       "      <td>52835</td>\n",
       "      <td>bulk</td>\n",
       "    </tr>\n",
       "    <tr>\n",
       "      <th>2</th>\n",
       "      <td>1.551439e+09</td>\n",
       "      <td>6</td>\n",
       "      <td>603</td>\n",
       "      <td>192.168.1.149</td>\n",
       "      <td>80.249.99.148</td>\n",
       "      <td>51850</td>\n",
       "      <td>80</td>\n",
       "      <td>bulk</td>\n",
       "    </tr>\n",
       "    <tr>\n",
       "      <th>3</th>\n",
       "      <td>1.551439e+09</td>\n",
       "      <td>6</td>\n",
       "      <td>1448</td>\n",
       "      <td>80.249.99.148</td>\n",
       "      <td>192.168.1.149</td>\n",
       "      <td>80</td>\n",
       "      <td>51850</td>\n",
       "      <td>bulk</td>\n",
       "    </tr>\n",
       "    <tr>\n",
       "      <th>4</th>\n",
       "      <td>1.551439e+09</td>\n",
       "      <td>6</td>\n",
       "      <td>1448</td>\n",
       "      <td>80.249.99.148</td>\n",
       "      <td>192.168.1.149</td>\n",
       "      <td>80</td>\n",
       "      <td>51850</td>\n",
       "      <td>bulk</td>\n",
       "    </tr>\n",
       "  </tbody>\n",
       "</table>\n",
       "</div>"
      ],
      "text/plain": [
       "           time  proto  data_len         ip_src         ip_dst  src_port  \\\n",
       "0  1.551439e+09     17        58  192.168.1.149    192.168.1.1     52835   \n",
       "1  1.551439e+09     17       230    192.168.1.1  192.168.1.149        53   \n",
       "2  1.551439e+09      6       603  192.168.1.149  80.249.99.148     51850   \n",
       "3  1.551439e+09      6      1448  80.249.99.148  192.168.1.149        80   \n",
       "4  1.551439e+09      6      1448  80.249.99.148  192.168.1.149        80   \n",
       "\n",
       "   dst_port  type  \n",
       "0        53  bulk  \n",
       "1     52835  bulk  \n",
       "2        80  bulk  \n",
       "3     51850  bulk  \n",
       "4     51850  bulk  "
      ]
     },
     "execution_count": 6,
     "metadata": {},
     "output_type": "execute_result"
    }
   ],
   "source": [
    "ds.nt.head()"
   ]
  },
  {
   "cell_type": "markdown",
   "metadata": {},
   "source": [
    "## Segreggating columns"
   ]
  },
  {
   "cell_type": "code",
   "execution_count": 7,
   "metadata": {},
   "outputs": [],
   "source": [
    "categorical = [\"proto\",\"ip_src\",\"ip_dst\", \"src_port\", \"dst_port\", \"type\"]\n",
    "ds.nt  = ds.nt.drop([\"time\"],axis=1)\n",
    "numerical = list(set(ds.nt.columns).difference(categorical))"
   ]
  },
  {
   "cell_type": "markdown",
   "metadata": {},
   "source": [
    "## Standardization of the numerical features"
   ]
  },
  {
   "cell_type": "code",
   "execution_count": 8,
   "metadata": {},
   "outputs": [],
   "source": [
    "scaler = StandardScaler()\n",
    "scaler.fit(ds.nt[numerical])\n",
    "ds.nt[numerical] = scaler.transform(ds.nt[numerical])"
   ]
  },
  {
   "cell_type": "markdown",
   "metadata": {},
   "source": [
    "## Glimpse into the dataset after Standardization"
   ]
  },
  {
   "cell_type": "code",
   "execution_count": 9,
   "metadata": {},
   "outputs": [
    {
     "data": {
      "text/html": [
       "<div>\n",
       "<style scoped>\n",
       "    .dataframe tbody tr th:only-of-type {\n",
       "        vertical-align: middle;\n",
       "    }\n",
       "\n",
       "    .dataframe tbody tr th {\n",
       "        vertical-align: top;\n",
       "    }\n",
       "\n",
       "    .dataframe thead th {\n",
       "        text-align: right;\n",
       "    }\n",
       "</style>\n",
       "<table border=\"1\" class=\"dataframe\">\n",
       "  <thead>\n",
       "    <tr style=\"text-align: right;\">\n",
       "      <th></th>\n",
       "      <th>proto</th>\n",
       "      <th>data_len</th>\n",
       "      <th>ip_src</th>\n",
       "      <th>ip_dst</th>\n",
       "      <th>src_port</th>\n",
       "      <th>dst_port</th>\n",
       "      <th>type</th>\n",
       "    </tr>\n",
       "  </thead>\n",
       "  <tbody>\n",
       "    <tr>\n",
       "      <th>0</th>\n",
       "      <td>17</td>\n",
       "      <td>-6.704513</td>\n",
       "      <td>192.168.1.149</td>\n",
       "      <td>192.168.1.1</td>\n",
       "      <td>52835</td>\n",
       "      <td>53</td>\n",
       "      <td>bulk</td>\n",
       "    </tr>\n",
       "    <tr>\n",
       "      <th>1</th>\n",
       "      <td>17</td>\n",
       "      <td>-5.852251</td>\n",
       "      <td>192.168.1.1</td>\n",
       "      <td>192.168.1.149</td>\n",
       "      <td>53</td>\n",
       "      <td>52835</td>\n",
       "      <td>bulk</td>\n",
       "    </tr>\n",
       "    <tr>\n",
       "      <th>2</th>\n",
       "      <td>6</td>\n",
       "      <td>-4.004032</td>\n",
       "      <td>192.168.1.149</td>\n",
       "      <td>80.249.99.148</td>\n",
       "      <td>51850</td>\n",
       "      <td>80</td>\n",
       "      <td>bulk</td>\n",
       "    </tr>\n",
       "    <tr>\n",
       "      <th>3</th>\n",
       "      <td>6</td>\n",
       "      <td>0.182952</td>\n",
       "      <td>80.249.99.148</td>\n",
       "      <td>192.168.1.149</td>\n",
       "      <td>80</td>\n",
       "      <td>51850</td>\n",
       "      <td>bulk</td>\n",
       "    </tr>\n",
       "    <tr>\n",
       "      <th>4</th>\n",
       "      <td>6</td>\n",
       "      <td>0.182952</td>\n",
       "      <td>80.249.99.148</td>\n",
       "      <td>192.168.1.149</td>\n",
       "      <td>80</td>\n",
       "      <td>51850</td>\n",
       "      <td>bulk</td>\n",
       "    </tr>\n",
       "  </tbody>\n",
       "</table>\n",
       "</div>"
      ],
      "text/plain": [
       "   proto  data_len         ip_src         ip_dst  src_port  dst_port  type\n",
       "0     17 -6.704513  192.168.1.149    192.168.1.1     52835        53  bulk\n",
       "1     17 -5.852251    192.168.1.1  192.168.1.149        53     52835  bulk\n",
       "2      6 -4.004032  192.168.1.149  80.249.99.148     51850        80  bulk\n",
       "3      6  0.182952  80.249.99.148  192.168.1.149        80     51850  bulk\n",
       "4      6  0.182952  80.249.99.148  192.168.1.149        80     51850  bulk"
      ]
     },
     "execution_count": 9,
     "metadata": {},
     "output_type": "execute_result"
    }
   ],
   "source": [
    "ds.nt.head()"
   ]
  },
  {
   "cell_type": "markdown",
   "metadata": {},
   "source": [
    "## Label Encoding for the categorical features"
   ]
  },
  {
   "cell_type": "code",
   "execution_count": 10,
   "metadata": {},
   "outputs": [],
   "source": [
    "for i in categorical:\n",
    "    enc = LabelEncoder()\n",
    "    enc.fit(ds.nt[i])\n",
    "    ds.nt[i] = enc.transform(ds.nt[i])"
   ]
  },
  {
   "cell_type": "markdown",
   "metadata": {},
   "source": [
    "## Glimpse into the dataset post Label Encoding"
   ]
  },
  {
   "cell_type": "code",
   "execution_count": 11,
   "metadata": {},
   "outputs": [
    {
     "data": {
      "text/html": [
       "<div>\n",
       "<style scoped>\n",
       "    .dataframe tbody tr th:only-of-type {\n",
       "        vertical-align: middle;\n",
       "    }\n",
       "\n",
       "    .dataframe tbody tr th {\n",
       "        vertical-align: top;\n",
       "    }\n",
       "\n",
       "    .dataframe thead th {\n",
       "        text-align: right;\n",
       "    }\n",
       "</style>\n",
       "<table border=\"1\" class=\"dataframe\">\n",
       "  <thead>\n",
       "    <tr style=\"text-align: right;\">\n",
       "      <th></th>\n",
       "      <th>proto</th>\n",
       "      <th>data_len</th>\n",
       "      <th>ip_src</th>\n",
       "      <th>ip_dst</th>\n",
       "      <th>src_port</th>\n",
       "      <th>dst_port</th>\n",
       "      <th>type</th>\n",
       "    </tr>\n",
       "  </thead>\n",
       "  <tbody>\n",
       "    <tr>\n",
       "      <th>0</th>\n",
       "      <td>1</td>\n",
       "      <td>-6.704513</td>\n",
       "      <td>536</td>\n",
       "      <td>502</td>\n",
       "      <td>4009</td>\n",
       "      <td>2</td>\n",
       "      <td>0</td>\n",
       "    </tr>\n",
       "    <tr>\n",
       "      <th>1</th>\n",
       "      <td>1</td>\n",
       "      <td>-5.852251</td>\n",
       "      <td>529</td>\n",
       "      <td>504</td>\n",
       "      <td>2</td>\n",
       "      <td>4037</td>\n",
       "      <td>0</td>\n",
       "    </tr>\n",
       "    <tr>\n",
       "      <th>2</th>\n",
       "      <td>0</td>\n",
       "      <td>-4.004032</td>\n",
       "      <td>536</td>\n",
       "      <td>1159</td>\n",
       "      <td>3774</td>\n",
       "      <td>5</td>\n",
       "      <td>0</td>\n",
       "    </tr>\n",
       "    <tr>\n",
       "      <th>3</th>\n",
       "      <td>0</td>\n",
       "      <td>0.182952</td>\n",
       "      <td>1216</td>\n",
       "      <td>504</td>\n",
       "      <td>5</td>\n",
       "      <td>3802</td>\n",
       "      <td>0</td>\n",
       "    </tr>\n",
       "    <tr>\n",
       "      <th>4</th>\n",
       "      <td>0</td>\n",
       "      <td>0.182952</td>\n",
       "      <td>1216</td>\n",
       "      <td>504</td>\n",
       "      <td>5</td>\n",
       "      <td>3802</td>\n",
       "      <td>0</td>\n",
       "    </tr>\n",
       "  </tbody>\n",
       "</table>\n",
       "</div>"
      ],
      "text/plain": [
       "   proto  data_len  ip_src  ip_dst  src_port  dst_port  type\n",
       "0      1 -6.704513     536     502      4009         2     0\n",
       "1      1 -5.852251     529     504         2      4037     0\n",
       "2      0 -4.004032     536    1159      3774         5     0\n",
       "3      0  0.182952    1216     504         5      3802     0\n",
       "4      0  0.182952    1216     504         5      3802     0"
      ]
     },
     "execution_count": 11,
     "metadata": {},
     "output_type": "execute_result"
    }
   ],
   "source": [
    "ds.nt.head()"
   ]
  },
  {
   "cell_type": "markdown",
   "metadata": {},
   "source": [
    "## Test-Train Split"
   ]
  },
  {
   "cell_type": "code",
   "execution_count": 12,
   "metadata": {},
   "outputs": [],
   "source": [
    "X_train,X_test,y_train,y_test = train_test_split(ds.nt,\n",
    "    ds.nt[\"type\"],\n",
    "    test_size = 0.1,\n",
    "    train_size=0.90,\n",
    "    random_state = 0\n",
    ")"
   ]
  },
  {
   "cell_type": "code",
   "execution_count": 13,
   "metadata": {},
   "outputs": [],
   "source": [
    "temp = X_train.pop(\"type\")\n",
    "temp = X_test.pop(\"type\")"
   ]
  },
  {
   "cell_type": "markdown",
   "metadata": {},
   "source": [
    "# Exploring tree based models with 90-10 test-train split"
   ]
  },
  {
   "cell_type": "markdown",
   "metadata": {},
   "source": [
    "## DecisionTreeClassifier"
   ]
  },
  {
   "cell_type": "markdown",
   "metadata": {},
   "source": [
    "### Initializing the classifier"
   ]
  },
  {
   "cell_type": "code",
   "execution_count": 46,
   "metadata": {},
   "outputs": [],
   "source": [
    "clf = DecisionTreeClassifier()"
   ]
  },
  {
   "cell_type": "markdown",
   "metadata": {},
   "source": [
    "### Fitting the model"
   ]
  },
  {
   "cell_type": "code",
   "execution_count": 47,
   "metadata": {},
   "outputs": [],
   "source": [
    "clf = clf.fit(X_train,y_train)"
   ]
  },
  {
   "cell_type": "markdown",
   "metadata": {},
   "source": [
    "### Predictions over the test dataset"
   ]
  },
  {
   "cell_type": "code",
   "execution_count": 48,
   "metadata": {},
   "outputs": [],
   "source": [
    "y_pred = clf.predict(X_test)"
   ]
  },
  {
   "cell_type": "markdown",
   "metadata": {},
   "source": [
    "### Accuracy score for the classifier"
   ]
  },
  {
   "cell_type": "code",
   "execution_count": 49,
   "metadata": {},
   "outputs": [
    {
     "name": "stdout",
     "output_type": "stream",
     "text": [
      "Accuracy on Test Dataset : 0.9997062442259961\n",
      "Accuracy on Train Dataset : 0.999999842321109\n"
     ]
    }
   ],
   "source": [
    "print(\"Accuracy on Test Dataset :\",metrics.accuracy_score(y_test, y_pred))\n",
    "print(\"Accuracy on Train Dataset :\",metrics.accuracy_score(y_train, clf.predict(X_train)))"
   ]
  },
  {
   "cell_type": "markdown",
   "metadata": {},
   "source": [
    "### Parameters of the classifier"
   ]
  },
  {
   "cell_type": "code",
   "execution_count": 59,
   "metadata": {},
   "outputs": [
    {
     "data": {
      "text/plain": [
       "{'ccp_alpha': 0.0,\n",
       " 'class_weight': None,\n",
       " 'criterion': 'gini',\n",
       " 'max_depth': None,\n",
       " 'max_features': None,\n",
       " 'max_leaf_nodes': None,\n",
       " 'min_impurity_decrease': 0.0,\n",
       " 'min_samples_leaf': 1,\n",
       " 'min_samples_split': 2,\n",
       " 'min_weight_fraction_leaf': 0.0,\n",
       " 'random_state': None,\n",
       " 'splitter': 'best'}"
      ]
     },
     "execution_count": 59,
     "metadata": {},
     "output_type": "execute_result"
    }
   ],
   "source": [
    "clf.get_params()"
   ]
  },
  {
   "cell_type": "markdown",
   "metadata": {},
   "source": [
    "### Classification report for the classifier's predictions"
   ]
  },
  {
   "cell_type": "code",
   "execution_count": 50,
   "metadata": {},
   "outputs": [
    {
     "name": "stdout",
     "output_type": "stream",
     "text": [
      "              precision    recall  f1-score   support\n",
      "\n",
      "           0       1.00      1.00      1.00    586800\n",
      "           1       0.83      0.82      0.83       186\n",
      "           2       1.00      1.00      1.00      7508\n",
      "           3       1.00      1.00      1.00     95690\n",
      "           4       0.99      0.99      0.99     14483\n",
      "\n",
      "    accuracy                           1.00    704667\n",
      "   macro avg       0.96      0.96      0.96    704667\n",
      "weighted avg       1.00      1.00      1.00    704667\n",
      "\n"
     ]
    }
   ],
   "source": [
    "print(metrics.classification_report(y_test, y_pred))"
   ]
  },
  {
   "cell_type": "markdown",
   "metadata": {},
   "source": [
    "We can observe that the imbalance in the dataset makes the model more biased to all classes except class 1 due to a less value of support."
   ]
  },
  {
   "cell_type": "markdown",
   "metadata": {},
   "source": [
    "### 5-fold cross-validation"
   ]
  },
  {
   "cell_type": "code",
   "execution_count": 51,
   "metadata": {},
   "outputs": [
    {
     "name": "stdout",
     "output_type": "stream",
     "text": [
      "5-fold cross validation : 0.8419264702334578\n"
     ]
    }
   ],
   "source": [
    "scores = cross_val_score(clf, ds.nt.drop([\"type\"], axis=1), ds.nt[\"type\"], cv=5)\n",
    "print(\"5-fold cross validation :\", np.mean(scores))"
   ]
  },
  {
   "cell_type": "markdown",
   "metadata": {},
   "source": [
    "## RandomForestClassifier"
   ]
  },
  {
   "cell_type": "markdown",
   "metadata": {},
   "source": [
    "### Initializing the RandomForestClassifier"
   ]
  },
  {
   "cell_type": "code",
   "execution_count": 29,
   "metadata": {},
   "outputs": [],
   "source": [
    "clf = RandomForestClassifier(n_estimators=10)"
   ]
  },
  {
   "cell_type": "markdown",
   "metadata": {},
   "source": [
    "### Fitting the classifier"
   ]
  },
  {
   "cell_type": "code",
   "execution_count": 30,
   "metadata": {},
   "outputs": [
    {
     "data": {
      "text/plain": [
       "RandomForestClassifier(n_estimators=10)"
      ]
     },
     "execution_count": 30,
     "metadata": {},
     "output_type": "execute_result"
    }
   ],
   "source": [
    "clf.fit(X_train,y_train)"
   ]
  },
  {
   "cell_type": "markdown",
   "metadata": {},
   "source": [
    "### Accuracy on train dataset"
   ]
  },
  {
   "cell_type": "code",
   "execution_count": 31,
   "metadata": {},
   "outputs": [
    {
     "data": {
      "text/plain": [
       "0.9999847051475693"
      ]
     },
     "execution_count": 31,
     "metadata": {},
     "output_type": "execute_result"
    }
   ],
   "source": [
    "y_pred_train = clf.predict(X_train)\n",
    "metrics.accuracy_score(y_train,y_pred_train)"
   ]
  },
  {
   "cell_type": "markdown",
   "metadata": {},
   "source": [
    "### Accuracy on test dataset"
   ]
  },
  {
   "cell_type": "code",
   "execution_count": 32,
   "metadata": {},
   "outputs": [
    {
     "data": {
      "text/plain": [
       "0.999743141086499"
      ]
     },
     "execution_count": 32,
     "metadata": {},
     "output_type": "execute_result"
    }
   ],
   "source": [
    "y_pred_test = clf.predict(X_test)\n",
    "metrics.accuracy_score(y_test,y_pred_test)"
   ]
  },
  {
   "cell_type": "markdown",
   "metadata": {},
   "source": [
    "### Classification report for classifier's predictions"
   ]
  },
  {
   "cell_type": "code",
   "execution_count": 33,
   "metadata": {},
   "outputs": [
    {
     "name": "stdout",
     "output_type": "stream",
     "text": [
      "              precision    recall  f1-score   support\n",
      "\n",
      "           0       1.00      1.00      1.00    586800\n",
      "           1       0.85      0.81      0.83       186\n",
      "           2       1.00      1.00      1.00      7508\n",
      "           3       1.00      1.00      1.00     95690\n",
      "           4       0.99      1.00      0.99     14483\n",
      "\n",
      "    accuracy                           1.00    704667\n",
      "   macro avg       0.97      0.96      0.96    704667\n",
      "weighted avg       1.00      1.00      1.00    704667\n",
      "\n"
     ]
    }
   ],
   "source": [
    "print(metrics.classification_report(y_test, y_pred_test))"
   ]
  },
  {
   "cell_type": "markdown",
   "metadata": {},
   "source": [
    "- We can infer that the results for the class 1 have improved by the Random Forest model compared to its base model, Decision Tree model. \n",
    "- Other classes are unaffected."
   ]
  },
  {
   "cell_type": "markdown",
   "metadata": {},
   "source": [
    "### 5-fold cross validation"
   ]
  },
  {
   "cell_type": "code",
   "execution_count": 39,
   "metadata": {},
   "outputs": [
    {
     "name": "stdout",
     "output_type": "stream",
     "text": [
      "5-fold cross validation : 0.8549927838255517\n"
     ]
    }
   ],
   "source": [
    "scores = cross_val_score(clf, ds.nt.drop([\"type\"], axis=1), ds.nt[\"type\"], cv=5)\n",
    "print(\"5-fold cross validation :\", np.mean(scores))"
   ]
  },
  {
   "cell_type": "markdown",
   "metadata": {},
   "source": [
    "## ExtraTreesClassifier"
   ]
  },
  {
   "cell_type": "markdown",
   "metadata": {},
   "source": [
    "### Initializing the classifier"
   ]
  },
  {
   "cell_type": "code",
   "execution_count": 40,
   "metadata": {},
   "outputs": [],
   "source": [
    "clf = ExtraTreesClassifier(n_estimators=10)"
   ]
  },
  {
   "cell_type": "markdown",
   "metadata": {},
   "source": [
    "### Fitting the classifier"
   ]
  },
  {
   "cell_type": "code",
   "execution_count": 41,
   "metadata": {},
   "outputs": [
    {
     "data": {
      "text/plain": [
       "ExtraTreesClassifier(n_estimators=10)"
      ]
     },
     "execution_count": 41,
     "metadata": {},
     "output_type": "execute_result"
    }
   ],
   "source": [
    "clf.fit(X_train, y_train)"
   ]
  },
  {
   "cell_type": "markdown",
   "metadata": {},
   "source": [
    "### Accuracy on train dataset"
   ]
  },
  {
   "cell_type": "code",
   "execution_count": 42,
   "metadata": {},
   "outputs": [
    {
     "data": {
      "text/plain": [
       "0.999999842321109"
      ]
     },
     "execution_count": 42,
     "metadata": {},
     "output_type": "execute_result"
    }
   ],
   "source": [
    "y_pred_train = clf.predict(X_train)\n",
    "metrics.accuracy_score(y_train,y_pred_train)"
   ]
  },
  {
   "cell_type": "markdown",
   "metadata": {},
   "source": [
    "### Accuracy on test dataset"
   ]
  },
  {
   "cell_type": "code",
   "execution_count": 43,
   "metadata": {},
   "outputs": [
    {
     "data": {
      "text/plain": [
       "0.9997530748566344"
      ]
     },
     "execution_count": 43,
     "metadata": {},
     "output_type": "execute_result"
    }
   ],
   "source": [
    "y_pred_test = clf.predict(X_test)\n",
    "metrics.accuracy_score(y_test,y_pred_test)"
   ]
  },
  {
   "cell_type": "markdown",
   "metadata": {},
   "source": [
    "### Classification report for the classifier's predictions"
   ]
  },
  {
   "cell_type": "code",
   "execution_count": 44,
   "metadata": {},
   "outputs": [
    {
     "name": "stdout",
     "output_type": "stream",
     "text": [
      "              precision    recall  f1-score   support\n",
      "\n",
      "           0       1.00      1.00      1.00    586800\n",
      "           1       0.88      0.84      0.86       186\n",
      "           2       1.00      1.00      1.00      7508\n",
      "           3       1.00      1.00      1.00     95690\n",
      "           4       0.99      1.00      0.99     14483\n",
      "\n",
      "    accuracy                           1.00    704667\n",
      "   macro avg       0.97      0.97      0.97    704667\n",
      "weighted avg       1.00      1.00      1.00    704667\n",
      "\n"
     ]
    }
   ],
   "source": [
    "print(metrics.classification_report(y_test, y_pred_test))"
   ]
  },
  {
   "cell_type": "markdown",
   "metadata": {},
   "source": [
    "- We can infer that the results for the class 1 have improved by the Extra Trees model compared to the previous models.\n",
    "- Other classes are unaffected."
   ]
  },
  {
   "cell_type": "markdown",
   "metadata": {},
   "source": [
    "### 5-fold cross-validation"
   ]
  },
  {
   "cell_type": "code",
   "execution_count": 45,
   "metadata": {},
   "outputs": [
    {
     "name": "stdout",
     "output_type": "stream",
     "text": [
      "5-fold cross validation : 0.8185778530852161\n"
     ]
    }
   ],
   "source": [
    "scores = cross_val_score(clf, ds.nt.drop([\"type\"], axis=1), ds.nt[\"type\"], cv=5)\n",
    "print(\"5-fold cross validation :\", np.mean(scores))"
   ]
  },
  {
   "cell_type": "markdown",
   "metadata": {},
   "source": [
    "# Conclusions"
   ]
  },
  {
   "cell_type": "markdown",
   "metadata": {},
   "source": [
    "- For the available dataset we have performed Standardization and Label Encoding for the numerical and categorical features respectively. This preprocessing ensures that the dataset has uniformity across every feature.\n",
    "- We explore Machine Learning models like Decision Trees and Ensemble models like Random Forest and Extra Trees. We observe that the base Decision Tree model give greater than 99% on both test and train datasets. However, since we have a large number of entries for each class in the dataset, Cross Validation becomes very important.\n",
    "- Below is the table of results for each tree-based classifier:\n",
    "<table>\n",
    "  <tr>\n",
    "    <th> Model </th>\n",
    "    <th> Category </th>\n",
    "    <th> Type of model </th>\n",
    "    <th> Accuracy on train dataset </th>\n",
    "    <th> Accuracy on test dataset </th>\n",
    "    <th> Accuracy on 5-fold cross validation </th>\n",
    "  </tr>\n",
    "  <tr>\n",
    "    <td> Decision Tree </td>\n",
    "    <td> Tree-based </td>\n",
    "    <td> Base Model </td>\n",
    "    <td> 99.999% </td>\n",
    "    <td> 99.970% </td>\n",
    "    <td> 84.192% </td>\n",
    "  <tr>\n",
    "  <tr>\n",
    "    <td> Random Forest </td>\n",
    "    <td> Tree-based </td>\n",
    "    <td> Ensemble Model </td>\n",
    "    <td> 99.999% </td>\n",
    "    <td> 99.974% </td>\n",
    "    <td> 85.499% </td>\n",
    "  <tr>\n",
    "  <tr>\n",
    "    <td> Extra Trees </td>\n",
    "    <td> Tree-based </td>\n",
    "    <td> Ensemble Model </td>\n",
    "    <td> 99.999% </td>\n",
    "    <td> 99.975% </td>\n",
    "    <td> 81.857% </td>\n",
    "  </tr>\n",
    "</table>\n",
    "\n",
    "- Based on the results in the above table, we shall choose the Random Forest Classifier because its cross validation accuracy is significantly higher that others. However, we can observe that there is a significant amount of overfitting in the model because there is a large different between the accuracies of before and after cross validation. This could also indicate that we shall use a higher value of K for the dataset."
   ]
  }
 ],
 "metadata": {
  "kernelspec": {
   "display_name": "Python 3.9.1 64-bit",
   "language": "python",
   "name": "python3"
  },
  "language_info": {
   "codemirror_mode": {
    "name": "ipython",
    "version": 3
   },
   "file_extension": ".py",
   "mimetype": "text/x-python",
   "name": "python",
   "nbconvert_exporter": "python",
   "pygments_lexer": "ipython3",
   "version": "3.9.1"
  },
  "orig_nbformat": 4,
  "vscode": {
   "interpreter": {
    "hash": "e443b312e6feff0d396647a93eaaecfc37235aac750c756136fcbdcdbd11186d"
   }
  }
 },
 "nbformat": 4,
 "nbformat_minor": 2
}
